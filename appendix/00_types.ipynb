{
 "cells": [
  {
   "cell_type": "markdown",
   "metadata": {},
   "source": [
    "# Appendix 0: Different input types for Hamiltonians\n",
    "\n",
    "Author: Gediminas Kiršanskas\n",
    "\n",
    "In this Appendix it is shown how Hamiltonian can be specified using different types (numpy array, list, dictionary). We use single orbital example from *tutorial.ipynb* notebook."
   ]
  },
  {
   "cell_type": "code",
   "execution_count": 1,
   "metadata": {
    "collapsed": true
   },
   "outputs": [],
   "source": [
    "# Prerequisites\n",
    "from __future__ import division, print_function\n",
    "import numpy as np\n",
    "import qmeq"
   ]
  },
  {
   "cell_type": "markdown",
   "metadata": {},
   "source": [
    "### Single orbital example\n",
    "Let us consider an example of a quantum dot containing one spinful orbital and on-site charging energy $U$ coupled to source ($L$) and drain ($R$) leads:\n",
    "\n",
    "$H_{\\mathrm{one}}=\\sum_{\\substack{\\ell=L,R \\\\ \\sigma=\\uparrow,\\downarrow}}\\varepsilon_{\\ell\\sigma k}^{\\phantom{\\dagger}}c_{\\ell\\sigma k}^{\\dagger}c_{\\ell\\sigma k}^{\\phantom{\\dagger}}\n",
    "+\\sum_{\\ell\\sigma k}\\left(t_{\\ell\\sigma}d_{\\sigma}^{\\dagger}c_{\\ell\\sigma k}+\\mathrm{H.c.}\\right)\n",
    "+\\sum_{\\sigma}\\varepsilon_{\\sigma}d_{\\sigma}^{\\dagger}d_{\\sigma}\n",
    "+(\\Omega d_{\\uparrow}^{\\dagger}d_{\\downarrow}+\\mathrm{H.c.})\n",
    "+Ud_{\\uparrow}^{\\dagger}d_{\\downarrow}^{\\dagger}d_{\\downarrow}^{\\phantom{\\dagger}}d_{\\uparrow}^{\\phantom{\\dagger}}$    \n",
    "\n",
    "with $\\varepsilon_{\\uparrow}=V_{g}+\\frac{B}{2}$, $\\varepsilon_{\\downarrow}=V_{g}\\frac{B}{2}$, where $V_{g}$ is the gate voltage and $B$ is the magnetic field (representing anamolous Zeeman splitting of spinful orbital). We will choose such values for parameters:"
   ]
  },
  {
   "cell_type": "code",
   "execution_count": 2,
   "metadata": {
    "collapsed": false
   },
   "outputs": [],
   "source": [
    "# Quantum dot parameters\n",
    "vgate = 1.0\n",
    "bfield = 0.5\n",
    "omega = 2.0\n",
    "U = 20.0\n",
    "# Lead parameters\n",
    "vbias = 0.5\n",
    "temp = 1.0\n",
    "dband = 40.0\n",
    "# Tunneling amplitudes\n",
    "gam = 0.5\n",
    "t0 = np.sqrt(gam/(2*np.pi))"
   ]
  },
  {
   "cell_type": "markdown",
   "metadata": {},
   "source": [
    "In $H_{\\mathrm{one}}$ we have two single particle states $\\lvert\\uparrow\\rangle$ and $\\lvert\\downarrow\\rangle$. The single particle Hamiltonian $H_{\\mathrm{single}}$ can be specified using numpy array, a list, or a dictionary:"
   ]
  },
  {
   "cell_type": "code",
   "execution_count": 3,
   "metadata": {
    "collapsed": false
   },
   "outputs": [],
   "source": [
    "nsingle = 2\n",
    "\n",
    "# numpy array             up                 down \n",
    "hsingle = np.array([[vgate+bfield/2,             omega],  # up\n",
    "                    [omega.conjugate(), vgate-bfield/2]]) # down\n",
    "\n",
    "# list, 0 is up, 1 is down\n",
    "hsingle = [[0, 0, vgate+bfield/2], \n",
    "           [1, 1, vgate-bfield/2],\n",
    "           [0, 1, omega]]\n",
    "\n",
    "# dictionary, 0 is up, 1 is down\n",
    "hsingle = {(0, 0): vgate+bfield/2,\n",
    "           (1, 1): vgate-bfield/2,\n",
    "           (0, 1): omega}"
   ]
  },
  {
   "cell_type": "markdown",
   "metadata": {},
   "source": [
    "**Comment 1.** \n",
    "In a dictionary it is enough to specify one element like $\\Omega d_{\\uparrow}^{\\dagger}d_{\\downarrow}^{\\phantom{\\dagger}}$, because the element $\\Omega^{*} d_{\\downarrow}^{\\dagger}d_{\\uparrow}^{\\phantom{\\dagger}}$ is determined by complex conjugation and is included automatically in order to get a Hermitian quantum dot Hamiltonian. If an element like (1,0) is given, it will be added to the Hamiltonian. So specifying {(0, 1):omega, (1,0):omega.conjugate()} will simply double count $\\Omega$.\n",
    "\n",
    "**Comment 2.** QmeQ will convert any numpy array or a list to a dictionary for internal usage. Also all elements in numpy array equal to zero are not included in the Hamiltonian dictionary."
   ]
  },
  {
   "cell_type": "markdown",
   "metadata": {},
   "source": [
    "The Coulomb interaction Hamiltonian $H_{\\mathrm{Coulomb}}$ is specified using either a list or a dictionary:"
   ]
  },
  {
   "cell_type": "code",
   "execution_count": 4,
   "metadata": {
    "collapsed": true
   },
   "outputs": [],
   "source": [
    "coulomb = [[0,1,1,0,U]]\n",
    "coulomb = {(0,1,1,0):U}"
   ]
  },
  {
   "cell_type": "markdown",
   "metadata": {},
   "source": [
    "The tunneling Hamiltonian $H_{\\mathrm{tunneling}}$ can be specified as:"
   ]
  },
  {
   "cell_type": "code",
   "execution_count": 5,
   "metadata": {
    "collapsed": true
   },
   "outputs": [],
   "source": [
    "# numpy array       up down  \n",
    "tleads = np.array([[t0, 0],  # L, up\n",
    "                   [t0, 0],  # R, up\n",
    "                   [0, t0],  # L, down                   \n",
    "                   [0, t0]]) # R, down\n",
    "\n",
    "# list                # lead label, lead spin <-- level spin\n",
    "tleads = [[0, 0, t0], # L, up   <-- up\n",
    "          [1, 0, t0], # R, up   <-- up\n",
    "          [2, 1, t0], # L, down <-- down          \n",
    "          [3, 1, t0]] # R, down <-- down\n",
    "\n",
    "# dictionary\n",
    "tleads = {(0, 0):t0,\n",
    "          (1, 0):t0,\n",
    "          (2, 1):t0,          \n",
    "          (3, 1):t0}"
   ]
  },
  {
   "cell_type": "markdown",
   "metadata": {},
   "source": [
    "**Comment 3.** In dictionary tuple $(\\alpha, i)$ the first label $\\alpha$ denotes lead quantum numbers, the second label $i$ denotes levels of the quantum dot. We note that effectively we get four leads, i.e., $\\alpha\\in\\{L\\uparrow,R\\uparrow,L\\downarrow,R\\downarrow\\}$."
   ]
  },
  {
   "cell_type": "markdown",
   "metadata": {},
   "source": [
    "### Specify the system using numpy arrays and lists"
   ]
  },
  {
   "cell_type": "code",
   "execution_count": 6,
   "metadata": {
    "collapsed": true
   },
   "outputs": [],
   "source": [
    "nsingle = 2\n",
    "nleads = 4\n",
    "# numpy array             up                 down \n",
    "hsingle = np.array([[vgate+bfield/2,             omega],  # up\n",
    "                    [omega.conjugate(), vgate-bfield/2]]) # down\n",
    "# numpy array       up down  \n",
    "tleads = np.array([[t0, 0],  # L, up\n",
    "                   [t0, 0],  # R, up\n",
    "                   [0, t0],  # L, down                   \n",
    "                   [0, t0]]) # R, down\n",
    "coulomb = [[0,1,1,0,U]]\n",
    "#        L,up      R,up     L,down    R,down\n",
    "mulst = [vbias/2, -vbias/2, vbias/2, -vbias/2]\n",
    "tlst = [temp, temp, temp, temp]"
   ]
  },
  {
   "cell_type": "code",
   "execution_count": 7,
   "metadata": {
    "collapsed": true
   },
   "outputs": [],
   "source": [
    "system = qmeq.Builder(nsingle, hsingle, coulomb,\n",
    "                      nleads, tleads, mulst, tlst, dband,\n",
    "                      kerntype='Pauli')"
   ]
  },
  {
   "cell_type": "markdown",
   "metadata": {},
   "source": [
    "The numpy arrays *hsingle*, *tleads* and a list *coulomb* get converted to dictionaries in **QmeQ**"
   ]
  },
  {
   "cell_type": "code",
   "execution_count": 8,
   "metadata": {
    "collapsed": false
   },
   "outputs": [
    {
     "name": "stdout",
     "output_type": "stream",
     "text": [
      "{(0, 1): 2.0, (0, 0): 1.25, (1, 1): 0.75}\n",
      "{(0, 1, 1, 0): 20.0}\n",
      "{(1, 0): 0.28209479177387814, (0, 0): 0.28209479177387814, (3, 1): 0.28209479177387814, (2, 1): 0.28209479177387814}\n"
     ]
    }
   ],
   "source": [
    "print(system.qd.hsingle)\n",
    "print(system.qd.coulomb)\n",
    "print(system.leads.tleads)"
   ]
  },
  {
   "cell_type": "code",
   "execution_count": null,
   "metadata": {
    "collapsed": true
   },
   "outputs": [],
   "source": []
  }
 ],
 "metadata": {
  "kernelspec": {
   "display_name": "Python 2",
   "language": "python",
   "name": "python2"
  },
  "language_info": {
   "codemirror_mode": {
    "name": "ipython",
    "version": 2
   },
   "file_extension": ".py",
   "mimetype": "text/x-python",
   "name": "python",
   "nbconvert_exporter": "python",
   "pygments_lexer": "ipython2",
   "version": "2.7.12"
  }
 },
 "nbformat": 4,
 "nbformat_minor": 0
}
